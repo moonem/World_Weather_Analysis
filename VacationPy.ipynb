{
 "cells": [
  {
   "cell_type": "code",
   "execution_count": 1,
   "metadata": {},
   "outputs": [],
   "source": [
    "# Import the dependencies.\n",
    "import pandas as pd\n",
    "import gmaps\n",
    "import requests\n",
    "# Import the API key.\n",
    "from config import g_key\n",
    "%matplotlib inline\n"
   ]
  },
  {
   "cell_type": "code",
   "execution_count": 2,
   "metadata": {},
   "outputs": [
    {
     "output_type": "execute_result",
     "data": {
      "text/plain": [
       "   City_ID          City Country                 Date      Lat       Lng  \\\n",
       "0        0       Ushuaia      AR  2021-05-14 19:38:10 -54.8000  -68.3000   \n",
       "1        1         Homer      US  2021-05-14 19:38:10  59.6425 -151.5483   \n",
       "2        2     Cape Town      ZA  2021-05-14 19:38:10 -33.9258   18.4232   \n",
       "3        3  Punta Arenas      CL  2021-05-14 19:38:11 -53.1500  -70.9167   \n",
       "4        4        Bakaly      RU  2021-05-14 19:38:11  55.1789   53.8028   \n",
       "\n",
       "   Max Temp  Humidity  Cloudiness  Wind Speed  \n",
       "0     50.00        66           0        3.44  \n",
       "1     48.00        76           1        6.91  \n",
       "2     64.99        82          75       13.80  \n",
       "3     46.40        87           0        8.05  \n",
       "4     65.48        54          41        8.23  "
      ],
      "text/html": "<div>\n<style scoped>\n    .dataframe tbody tr th:only-of-type {\n        vertical-align: middle;\n    }\n\n    .dataframe tbody tr th {\n        vertical-align: top;\n    }\n\n    .dataframe thead th {\n        text-align: right;\n    }\n</style>\n<table border=\"1\" class=\"dataframe\">\n  <thead>\n    <tr style=\"text-align: right;\">\n      <th></th>\n      <th>City_ID</th>\n      <th>City</th>\n      <th>Country</th>\n      <th>Date</th>\n      <th>Lat</th>\n      <th>Lng</th>\n      <th>Max Temp</th>\n      <th>Humidity</th>\n      <th>Cloudiness</th>\n      <th>Wind Speed</th>\n    </tr>\n  </thead>\n  <tbody>\n    <tr>\n      <th>0</th>\n      <td>0</td>\n      <td>Ushuaia</td>\n      <td>AR</td>\n      <td>2021-05-14 19:38:10</td>\n      <td>-54.8000</td>\n      <td>-68.3000</td>\n      <td>50.00</td>\n      <td>66</td>\n      <td>0</td>\n      <td>3.44</td>\n    </tr>\n    <tr>\n      <th>1</th>\n      <td>1</td>\n      <td>Homer</td>\n      <td>US</td>\n      <td>2021-05-14 19:38:10</td>\n      <td>59.6425</td>\n      <td>-151.5483</td>\n      <td>48.00</td>\n      <td>76</td>\n      <td>1</td>\n      <td>6.91</td>\n    </tr>\n    <tr>\n      <th>2</th>\n      <td>2</td>\n      <td>Cape Town</td>\n      <td>ZA</td>\n      <td>2021-05-14 19:38:10</td>\n      <td>-33.9258</td>\n      <td>18.4232</td>\n      <td>64.99</td>\n      <td>82</td>\n      <td>75</td>\n      <td>13.80</td>\n    </tr>\n    <tr>\n      <th>3</th>\n      <td>3</td>\n      <td>Punta Arenas</td>\n      <td>CL</td>\n      <td>2021-05-14 19:38:11</td>\n      <td>-53.1500</td>\n      <td>-70.9167</td>\n      <td>46.40</td>\n      <td>87</td>\n      <td>0</td>\n      <td>8.05</td>\n    </tr>\n    <tr>\n      <th>4</th>\n      <td>4</td>\n      <td>Bakaly</td>\n      <td>RU</td>\n      <td>2021-05-14 19:38:11</td>\n      <td>55.1789</td>\n      <td>53.8028</td>\n      <td>65.48</td>\n      <td>54</td>\n      <td>41</td>\n      <td>8.23</td>\n    </tr>\n  </tbody>\n</table>\n</div>"
     },
     "metadata": {},
     "execution_count": 2
    }
   ],
   "source": [
    "# Store the CSV you saved created in part one into a DataFrame.\n",
    "city_data_df = pd.read_csv(\"weather_data/cities.csv\")\n",
    "city_data_df.head()"
   ]
  },
  {
   "cell_type": "code",
   "execution_count": 3,
   "metadata": {},
   "outputs": [
    {
     "output_type": "execute_result",
     "data": {
      "text/plain": [
       "City_ID         int64\n",
       "City           object\n",
       "Country        object\n",
       "Date           object\n",
       "Lat           float64\n",
       "Lng           float64\n",
       "Max Temp      float64\n",
       "Humidity        int64\n",
       "Cloudiness      int64\n",
       "Wind Speed    float64\n",
       "dtype: object"
      ]
     },
     "metadata": {},
     "execution_count": 3
    }
   ],
   "source": [
    "city_data_df.dtypes"
   ]
  },
  {
   "cell_type": "code",
   "execution_count": 4,
   "metadata": {},
   "outputs": [],
   "source": [
    "# Configure gmaps to use your Google API key.\n",
    "gmaps.configure(api_key=g_key)"
   ]
  },
  {
   "cell_type": "code",
   "execution_count": 7,
   "metadata": {},
   "outputs": [],
   "source": [
    "# Get the maximum temperature.\n",
    "max_temp = city_data_df[\"Max Temp\"]\n",
    "temps = []\n",
    "for temp in max_temp:\n",
    "    temps.append(max(temp, 0))\n"
   ]
  },
  {
   "cell_type": "code",
   "execution_count": 15,
   "metadata": {},
   "outputs": [
    {
     "output_type": "display_data",
     "data": {
      "text/plain": "Figure(layout=FigureLayout(height='420px'))",
      "application/vnd.jupyter.widget-view+json": {
       "version_major": 2,
       "version_minor": 0,
       "model_id": "cbd7f0dfc1934c28aec6ac95ca7f9532"
      }
     },
     "metadata": {}
    }
   ],
   "source": [
    "# Heatmap of temperature\n",
    "# Get the latitude and longitude.\n",
    "locations = city_data_df[[\"Lat\", \"Lng\"]]\n",
    "# Get the maximum temperature.\n",
    "max_temp = city_data_df[\"Max Temp\"]\n",
    "# Assign the figure variable.\n",
    "fig = gmaps.figure(center=(30.0, 31.0), zoom_level=1.5)\n",
    "# Assign the heatmap variable.\n",
    "heat_layer = gmaps.heatmap_layer(locations, weights=temps, dissipating=False, max_intensity=300, point_radius=4)\n",
    "# Add the heatmap layer.\n",
    "fig.add_layer(heat_layer)\n",
    "\n",
    "# Call the figure to plot the data.\n",
    "fig"
   ]
  },
  {
   "cell_type": "code",
   "execution_count": 16,
   "metadata": {},
   "outputs": [
    {
     "output_type": "display_data",
     "data": {
      "text/plain": "Figure(layout=FigureLayout(height='420px'))",
      "application/vnd.jupyter.widget-view+json": {
       "version_major": 2,
       "version_minor": 0,
       "model_id": "89a7edd919794f519ce37117b73b5664"
      }
     },
     "metadata": {}
    }
   ],
   "source": [
    "# Heatmap of percent humidity.\n",
    "locations = city_data_df[[\"Lat\", \"Lng\"]]\n",
    "humidity = city_data_df[\"Humidity\"]\n",
    "fig = gmaps.figure(center=(30.0, 31.0), zoom_level=1.5)\n",
    "heat_layer = gmaps.heatmap_layer(locations, weights=humidity, dissipating=False, max_intensity=300, point_radius=4)\n",
    "fig.add_layer(heat_layer)\n",
    "# Call the figure to plot the data.\n",
    "fig"
   ]
  },
  {
   "cell_type": "code",
   "execution_count": 18,
   "metadata": {},
   "outputs": [
    {
     "output_type": "display_data",
     "data": {
      "text/plain": "Figure(layout=FigureLayout(height='420px'))",
      "application/vnd.jupyter.widget-view+json": {
       "version_major": 2,
       "version_minor": 0,
       "model_id": "5e9e225f6a964b19bf7757aef0822f31"
      }
     },
     "metadata": {}
    }
   ],
   "source": [
    "# Creat a % Cloudiness heatmap. \n",
    "locations = city_data_df[[\"Lat\", \"Lng\"]]\n",
    "cloudiness = city_data_df[\"Cloudiness\"]\n",
    "fig = gmaps.figure(center=(30.0, 31.0), zoom_level=1.5)\n",
    "heat_layer = gmaps.heatmap_layer(locations, weights=cloudiness, dissipating=False, max_intensity=300, point_radius=4)\n",
    "fig.add_layer(heat_layer)\n",
    "# Call the figure to plot the data.\n",
    "fig"
   ]
  },
  {
   "cell_type": "code",
   "execution_count": 19,
   "metadata": {},
   "outputs": [
    {
     "output_type": "display_data",
     "data": {
      "text/plain": "Figure(layout=FigureLayout(height='420px'))",
      "application/vnd.jupyter.widget-view+json": {
       "version_major": 2,
       "version_minor": 0,
       "model_id": "df4bc924c41746adbd2a27ede7c202dd"
      }
     },
     "metadata": {}
    }
   ],
   "source": [
    "# Creat a Wind Speed heatmap. \n",
    "locations = city_data_df[[\"Lat\", \"Lng\"]]\n",
    "wind = city_data_df[\"Wind Speed\"]\n",
    "fig = gmaps.figure(center=(30.0, 31.0), zoom_level=1.5)\n",
    "heat_layer = gmaps.heatmap_layer(locations, weights=wind, dissipating=False, max_intensity=300, point_radius=4)\n",
    "fig.add_layer(heat_layer)\n",
    "# Call the figure to plot the data.\n",
    "fig"
   ]
  },
  {
   "cell_type": "code",
   "execution_count": 27,
   "metadata": {},
   "outputs": [],
   "source": [
    "# Ask the customer to add a minimum and maximum temperature value.\n",
    "min_temp1 = float(input(\"What is the minimum temperature you would like for your trip? \"))\n",
    "max_temp1 = float(input(\"What is the maximum temperature you would like for your trip? \"))\n"
   ]
  },
  {
   "cell_type": "code",
   "execution_count": 29,
   "metadata": {},
   "outputs": [
    {
     "output_type": "execute_result",
     "data": {
      "text/plain": [
       "    City_ID             City Country                 Date      Lat       Lng  \\\n",
       "10       10           Avarua      CK  2021-05-14 19:38:13 -21.2078 -159.7750   \n",
       "15       15            Conde      BR  2021-05-14 19:38:16  -7.2597  -34.9075   \n",
       "24       24          Rikitea      PF  2021-05-14 19:38:19 -23.1203 -134.9692   \n",
       "27       27  Bambous Virieux      MU  2021-05-14 19:38:20 -20.3428   57.7575   \n",
       "28       28          Prainha      BR  2021-05-14 19:38:20  -1.8000  -53.4800   \n",
       "\n",
       "    Max Temp  Humidity  Cloudiness  Wind Speed  \n",
       "10     78.80        83         100        2.30  \n",
       "15     78.80        89          75        5.75  \n",
       "24     76.03        73         100       24.85  \n",
       "27     77.00        73          40       14.97  \n",
       "28     80.13        82         100        3.09  "
      ],
      "text/html": "<div>\n<style scoped>\n    .dataframe tbody tr th:only-of-type {\n        vertical-align: middle;\n    }\n\n    .dataframe tbody tr th {\n        vertical-align: top;\n    }\n\n    .dataframe thead th {\n        text-align: right;\n    }\n</style>\n<table border=\"1\" class=\"dataframe\">\n  <thead>\n    <tr style=\"text-align: right;\">\n      <th></th>\n      <th>City_ID</th>\n      <th>City</th>\n      <th>Country</th>\n      <th>Date</th>\n      <th>Lat</th>\n      <th>Lng</th>\n      <th>Max Temp</th>\n      <th>Humidity</th>\n      <th>Cloudiness</th>\n      <th>Wind Speed</th>\n    </tr>\n  </thead>\n  <tbody>\n    <tr>\n      <th>10</th>\n      <td>10</td>\n      <td>Avarua</td>\n      <td>CK</td>\n      <td>2021-05-14 19:38:13</td>\n      <td>-21.2078</td>\n      <td>-159.7750</td>\n      <td>78.80</td>\n      <td>83</td>\n      <td>100</td>\n      <td>2.30</td>\n    </tr>\n    <tr>\n      <th>15</th>\n      <td>15</td>\n      <td>Conde</td>\n      <td>BR</td>\n      <td>2021-05-14 19:38:16</td>\n      <td>-7.2597</td>\n      <td>-34.9075</td>\n      <td>78.80</td>\n      <td>89</td>\n      <td>75</td>\n      <td>5.75</td>\n    </tr>\n    <tr>\n      <th>24</th>\n      <td>24</td>\n      <td>Rikitea</td>\n      <td>PF</td>\n      <td>2021-05-14 19:38:19</td>\n      <td>-23.1203</td>\n      <td>-134.9692</td>\n      <td>76.03</td>\n      <td>73</td>\n      <td>100</td>\n      <td>24.85</td>\n    </tr>\n    <tr>\n      <th>27</th>\n      <td>27</td>\n      <td>Bambous Virieux</td>\n      <td>MU</td>\n      <td>2021-05-14 19:38:20</td>\n      <td>-20.3428</td>\n      <td>57.7575</td>\n      <td>77.00</td>\n      <td>73</td>\n      <td>40</td>\n      <td>14.97</td>\n    </tr>\n    <tr>\n      <th>28</th>\n      <td>28</td>\n      <td>Prainha</td>\n      <td>BR</td>\n      <td>2021-05-14 19:38:20</td>\n      <td>-1.8000</td>\n      <td>-53.4800</td>\n      <td>80.13</td>\n      <td>82</td>\n      <td>100</td>\n      <td>3.09</td>\n    </tr>\n  </tbody>\n</table>\n</div>"
     },
     "metadata": {},
     "execution_count": 29
    }
   ],
   "source": [
    "# Filter the dataset to find the cities that fit the criteria.\n",
    "preferred_cities_df = city_data_df.loc[(city_data_df[\"Max Temp\"] <= max_temp1) & \\\n",
    "                                        (city_data_df[\"Max Temp\"] >= min_temp1)]\n",
    "preferred_cities_df.head()"
   ]
  },
  {
   "cell_type": "code",
   "execution_count": 31,
   "metadata": {},
   "outputs": [
    {
     "output_type": "execute_result",
     "data": {
      "text/plain": [
       "City_ID       0\n",
       "City          0\n",
       "Country       0\n",
       "Date          0\n",
       "Lat           0\n",
       "Lng           0\n",
       "Max Temp      0\n",
       "Humidity      0\n",
       "Cloudiness    0\n",
       "Wind Speed    0\n",
       "dtype: int64"
      ]
     },
     "metadata": {},
     "execution_count": 31
    }
   ],
   "source": [
    "preferred_cities_df.isnull().sum()"
   ]
  },
  {
   "cell_type": "code",
   "execution_count": 57,
   "metadata": {},
   "outputs": [
    {
     "output_type": "execute_result",
     "data": {
      "text/plain": [
       "               City Country  Max Temp      Lat       Lng Hotel Name\n",
       "10           Avarua      CK     78.80 -21.2078 -159.7750           \n",
       "15            Conde      BR     78.80  -7.2597  -34.9075           \n",
       "24          Rikitea      PF     76.03 -23.1203 -134.9692           \n",
       "27  Bambous Virieux      MU     77.00 -20.3428   57.7575           \n",
       "28          Prainha      BR     80.13  -1.8000  -53.4800           "
      ],
      "text/html": "<div>\n<style scoped>\n    .dataframe tbody tr th:only-of-type {\n        vertical-align: middle;\n    }\n\n    .dataframe tbody tr th {\n        vertical-align: top;\n    }\n\n    .dataframe thead th {\n        text-align: right;\n    }\n</style>\n<table border=\"1\" class=\"dataframe\">\n  <thead>\n    <tr style=\"text-align: right;\">\n      <th></th>\n      <th>City</th>\n      <th>Country</th>\n      <th>Max Temp</th>\n      <th>Lat</th>\n      <th>Lng</th>\n      <th>Hotel Name</th>\n    </tr>\n  </thead>\n  <tbody>\n    <tr>\n      <th>10</th>\n      <td>Avarua</td>\n      <td>CK</td>\n      <td>78.80</td>\n      <td>-21.2078</td>\n      <td>-159.7750</td>\n      <td></td>\n    </tr>\n    <tr>\n      <th>15</th>\n      <td>Conde</td>\n      <td>BR</td>\n      <td>78.80</td>\n      <td>-7.2597</td>\n      <td>-34.9075</td>\n      <td></td>\n    </tr>\n    <tr>\n      <th>24</th>\n      <td>Rikitea</td>\n      <td>PF</td>\n      <td>76.03</td>\n      <td>-23.1203</td>\n      <td>-134.9692</td>\n      <td></td>\n    </tr>\n    <tr>\n      <th>27</th>\n      <td>Bambous Virieux</td>\n      <td>MU</td>\n      <td>77.00</td>\n      <td>-20.3428</td>\n      <td>57.7575</td>\n      <td></td>\n    </tr>\n    <tr>\n      <th>28</th>\n      <td>Prainha</td>\n      <td>BR</td>\n      <td>80.13</td>\n      <td>-1.8000</td>\n      <td>-53.4800</td>\n      <td></td>\n    </tr>\n  </tbody>\n</table>\n</div>"
     },
     "metadata": {},
     "execution_count": 57
    }
   ],
   "source": [
    "# Create DataFrame called hotel_df to store hotel names along with city, country, max temp, and coordinates.\n",
    "hotel_df = preferred_cities_df[[\"City\", \"Country\", \"Max Temp\", \"Lat\", \"Lng\"]].copy()\n",
    "hotel_df[\"Hotel Name\"] = \"\"\n",
    "hotel_df.head()"
   ]
  },
  {
   "cell_type": "code",
   "execution_count": 63,
   "metadata": {},
   "outputs": [],
   "source": [
    "# Dependencies and Setup\n",
    "import requests\n",
    "import gmaps\n",
    "\n",
    "# Import API key\n",
    "from config import g_key\n",
    "# Set parameters to search for a hotel (in Paris location).\n",
    "params = {\n",
    "    \"radius\": 5000,\n",
    "    \"type\": \"lodging\",\n",
    "    \"key\": g_key,\n",
    "    \"location\": \"48.8566, 2.3522\"\n",
    "}"
   ]
  },
  {
   "cell_type": "code",
   "execution_count": 64,
   "metadata": {},
   "outputs": [
    {
     "output_type": "execute_result",
     "data": {
      "text/plain": [
       "'open_now': True},\n",
       "   'photos': [{'height': 2000,\n",
       "     'html_attributions': ['<a href=\"https://maps.google.com/maps/contrib/111815616573299411056\">Novotel Paris Les Halles</a>'],\n",
       "     'photo_reference': 'ATtYBwJMZAf5b5tdLOS1jPNqOIhtB3VD2_IIzzGpGTN3A4TvqoUqbQHaQzjcn1iwvZabKi20MRR9BJybxHKuqZmApBpGIR90TqGN9i-4nsxU-DoAyEA3UIOoTKAP6NOie1iTcHy9LMSBywQzTmzLKU61axrWgE-X5D6Fy0Yd27Tu06Gf72ha',\n",
       "     'width': 3000}],\n",
       "   'place_id': 'ChIJGW2pNx9u5kcRI3oyL8NG5BQ',\n",
       "   'plus_code': {'compound_code': 'V86W+8J Paris, France',\n",
       "    'global_code': '8FW4V86W+8J'},\n",
       "   'rating': 4.4,\n",
       "   'reference': 'ChIJGW2pNx9u5kcRI3oyL8NG5BQ',\n",
       "   'scope': 'GOOGLE',\n",
       "   'types': ['lodging', 'point_of_interest', 'establishment'],\n",
       "   'user_ratings_total': 2111,\n",
       "   'vicinity': '8 Place Marguerite de Navarre, Paris'},\n",
       "  {'business_status': 'OPERATIONAL',\n",
       "   'geometry': {'location': {'lat': 48.86034799999999, 'lng': 2.344054},\n",
       "    'viewport': {'northeast': {'lat': 48.8616503302915,\n",
       "      'lng': 2.345521080291502},\n",
       "     'southwest': {'lat': 48.8589523697085, 'lng': 2.342823119708498}}},\n",
       "   'icon': 'https://maps.gstatic.com/mapfiles/place_api/icons/v1/png_71/lodging-71.png',\n",
       "   'name': 'Hôtel Ducs de Bourgogne',\n",
       "   'opening_hours': {'open_now': True},\n",
       "   'photos': [{'height': 1390,\n",
       "     'html_attributions': ['<a href=\"https://maps.google.com/maps/contrib/101411638353598558320\">Hôtel Ducs de Bourgogne</a>'],\n",
       "     'photo_reference': 'ATtYBwLyCJUbFxdjLQXw5B7vMPaMCEl4F88qSw5wleQK_GIXmASJeezwAftd_9vUDK8_v15uqIHRJTTIm3KcdDguG-0HBa70A7YHTB_1-qx8YAzGqk1eiyYnL3469XmwA6DKYyooB2Z_06e412IFn5xPCQzWXeiKDcbbOafAgOqa3nLmnYr5',\n",
       "     'width': 2048}],\n",
       "   'place_id': 'ChIJifTG5yFu5kcRdnisbwxnAx4',\n",
       "   'plus_code': {'compound_code': 'V86V+4J Paris, France',\n",
       "    'global_code': '8FW4V86V+4J'},\n",
       "   'rating': 4.5,\n",
       "   'reference': 'ChIJifTG5yFu5kcRdnisbwxnAx4',\n",
       "   'scope': 'GOOGLE',\n",
       "   'types': ['lodging', 'point_of_interest', 'establishment'],\n",
       "   'user_ratings_total': 276,\n",
       "   'vicinity': '19 Rue du Pont Neuf, Paris'},\n",
       "  {'business_status': 'OPERATIONAL',\n",
       "   'geometry': {'location': {'lat': 48.8555091, 'lng': 2.3408736},\n",
       "    'viewport': {'northeast': {'lat': 48.8569076302915,\n",
       "      'lng': 2.342319280291502},\n",
       "     'southwest': {'lat': 48.8542096697085, 'lng': 2.339621319708498}}},\n",
       "   'icon': 'https://maps.gstatic.com/mapfiles/place_api/icons/v1/png_71/lodging-71.png',\n",
       "   'name': 'Citadines Saint-Germain-des-Prés Paris (Apart hotel Paris)',\n",
       "   'opening_hours': {'open_now': True},\n",
       "   'photos': [{'height': 4480,\n",
       "     'html_attributions': ['<a href=\"https://maps.google.com/maps/contrib/113188832595116816387\">Citadines Saint-Germain-des-Prés Paris</a>'],\n",
       "     'photo_reference': 'ATtYBwJU2Gacjp1BXrW6dKXOFPtY3hujgK9HkkunhHSRRemOugJKhXWFlFUO2UNnjxTyHih5NWUQ1a4Pc_D73qKPYS4jmfaa1NmO8vioxnvfG_TzpmULYbtrvB7Q48jSlioK8DBi6dB1JcIdDXkjH4Fh75rHtzLETtQ1Hx6ZRGqqISG2Z8LB',\n",
       "     'width': 6720}],\n",
       "   'place_id': 'ChIJo5pYcN9x5kcRERXdocMgqmE',\n",
       "   'plus_code': {'compound_code': 'V84R+68 Paris, France',\n",
       "    'global_code': '8FW4V84R+68'},\n",
       "   'rating': 4.3,\n",
       "   'reference': 'ChIJo5pYcN9x5kcRERXdocMgqmE',\n",
       "   'scope': 'GOOGLE',\n",
       "   'types': ['lodging', 'point_of_interest', 'establishment'],\n",
       "   'user_ratings_total': 664,\n",
       "   'vicinity': '53 ter Quai des Grands Augustins, Paris'},\n",
       "  {'business_status': 'OPERATIONAL',\n",
       "   'geometry': {'location': {'lat': 48.86634659999999, 'lng': 2.36064},\n",
       "    'viewport': {'northeast': {'lat': 48.86774953029149,\n",
       "      'lng': 2.361898330291501},\n",
       "     'southwest': {'lat': 48.86505156970849, 'lng': 2.359200369708498}}},\n",
       "   'icon': 'https://maps.gstatic.com/mapfiles/place_api/icons/v1/png_71/lodging-71.png',\n",
       "   'name': 'Paris France Hôtel',\n",
       "   'opening_hours': {'open_now': True},\n",
       "   'photos': [{'height': 2673,\n",
       "     'html_attributions': ['<a href=\"https://maps.google.com/maps/contrib/102332962500946068613\">Paris France Hôtel</a>'],\n",
       "     'photo_reference': 'ATtYBwJGjCptthb0gTipdIGjgL3bqmTry99fqft4TZ5cQFx8UgLieoanmgjzR_fqi1TmiT7pbTZ2f3qOISINXEhQ12t3GZuoXdPMbuUquIKgz6sDBLCArZnMC3PN2NujFp9ILzIO9wCXsccQ_euHymeJjPR6bDmc4MCg38jKZEK4QX1p_rMj',\n",
       "     'width': 3463}],\n",
       "   'place_id': 'ChIJhXWLZg9u5kcRDVyqoZYgcmg',\n",
       "   'plus_code': {'compound_code': 'V986+G7 Paris, France',\n",
       "    'global_code': '8FW4V986+G7'},\n",
       "   'rating': 4.3,\n",
       "   'reference': 'ChIJhXWLZg9u5kcRDVyqoZYgcmg',\n",
       "   'scope': 'GOOGLE',\n",
       "   'types': ['lodging', 'point_of_interest', 'establishment'],\n",
       "   'user_ratings_total': 381,\n",
       "   'vicinity': '72 Rue de Turbigo, Paris'},\n",
       "  {'business_status': 'OPERATIONAL',\n",
       "   'geometry': {'location': {'lat': 48.86386539999999, 'lng': 2.3325488},\n",
       "    'viewport': {'northeast': {'lat': 48.8650759802915,\n",
       "      'lng': 2.333775730291502},\n",
       "     'southwest': {'lat': 48.8623780197085, 'lng': 2.331077769708498}}},\n",
       "   'icon': 'https://maps.gstatic.com/mapfiles/place_api/icons/v1/png_71/lodging-71.png',\n",
       "   'name': 'Hotel Regina Louvre',\n",
       "   'opening_hours': {'open_now': True},\n",
       "   'photos': [{'height': 3700,\n",
       "     'html_attributions': ['<a href=\"https://maps.google.com/maps/contrib/109908333790946649027\">Hôtel Regina Louvre</a>'],\n",
       "     'photo_reference': 'ATtYBwJcW7txT7wt-Ypo2PRipF_Yp77K8NtyMT-boDOCmOinSVVH-sARfTiyrS5jSWCi3vTTGAARam3cdyEIrlp_kewSxuGuozUULFAXgtxOpa32itMt5fxBhiMyNEh9Xw5xsIbJRwVVTr_Uz5TmW3FZg8DupxhlvfkTLFWDcVK4ZcE2xNnN',\n",
       "     'width': 5550}],\n",
       "   'place_id': 'ChIJP_-HCS9u5kcRsj9b1x7Pl8w',\n",
       "   'plus_code': {'compound_code': 'V87M+G2 Paris, France',\n",
       "    'global_code': '8FW4V87M+G2'},\n",
       "   'rating': 4.5,\n",
       "   'reference': 'ChIJP_-HCS9u5kcRsj9b1x7Pl8w',\n",
       "   'scope': 'GOOGLE',\n",
       "   'types': ['lodging',\n",
       "    'bar',\n",
       "    'restaurant',\n",
       "    'food',\n",
       "    'point_of_interest',\n",
       "    'establishment'],\n",
       "   'user_ratings_total': 501,\n",
       "   'vicinity': '2 Place des Pyramides, Paris'},\n",
       "  {'business_status': 'OPERATIONAL',\n",
       "   'geometry': {'location': {'lat': 48.84795229999999, 'lng': 2.370869},\n",
       "    'viewport': {'northeast': {'lat': 48.8492035302915,\n",
       "      'lng': 2.372290080291501},\n",
       "     'southwest': {'lat': 48.8465055697085, 'lng': 2.369592119708498}}},\n",
       "   'icon': 'https://maps.gstatic.com/mapfiles/place_api/icons/v1/png_71/lodging-71.png',\n",
       "   'name': 'ibis Paris Gare de Lyon Ledru Rollin 12ème',\n",
       "   'opening_hours': {'open_now': True},\n",
       "   'photos': [{'height': 3024,\n",
       "     'html_attributions': ['<a href=\"https://maps.google.com/maps/contrib/102166088584622554231\">cherry pyj</a>'],\n",
       "     'photo_reference': 'ATtYBwJWNWffEelg0En9TbKPezJ6960-W4jHwTs466vWrNMQu6IykY3-1TphJitf094j9N8g96XN9bxPmzwiymZylJGPtA9VZLZFPnxTY4HzIzhbslqP4A30VcAqbl6rqNcoERav0YuL_Fkb1TIKhYXpoulzV9UpQFU8UVd83VimB6BmkXxz',\n",
       "     'width': 4032}],\n",
       "   'place_id': 'ChIJ9RNxcQNy5kcRnZJ4vsuXcow',\n",
       "   'plus_code': {'compound_code': 'R9XC+58 Paris, France',\n",
       "    'global_code': '8FW4R9XC+58'},\n",
       "   'rating': 4,\n",
       "   'reference': 'ChIJ9RNxcQNy5kcRnZJ4vsuXcow',\n",
       "   'scope': 'GOOGLE',\n",
       "   'types': ['lodging', 'point_of_interest', 'establishment'],\n",
       "   'user_ratings_total': 760,\n",
       "   'vicinity': '41/43 Avenue Ledru Rollin, Paris'},\n",
       "  {'business_status': 'CLOSED_TEMPORARILY',\n",
       "   'geometry': {'location': {'lat': 48.8710647, 'lng': 2.34991},\n",
       "    'viewport': {'northeast': {'lat': 48.87241888029151,\n",
       "      'lng': 2.351188530291502},\n",
       "     'southwest': {'lat': 48.86972091970851, 'lng': 2.348490569708498}}},\n",
       "   'icon': 'https://maps.gstatic.com/mapfiles/place_api/icons/v1/png_71/lodging-71.png',\n",
       "   'name': 'Hôtel des Comédies Paris',\n",
       "   'permanently_closed': True,\n",
       "   'photos': [{'height': 4000,\n",
       "     'html_attributions': ['<a href=\"https://maps.google.com/maps/contrib/114696623290303183213\">Noble</a>'],\n",
       "     'photo_reference': 'ATtYBwKb3mTesSaWQDvaywq14tFIef0xYrMf1ULwSbEoYdoMbrFkbRrjDqcSZAyrH1tiftOmekeKA5WO7s2JcGNotjGEV6ofDpR_L4RoYPJsEr7aYRvt0Ot0y5oMCL3pFUqkKh-kxE6ukxJFgxpVJOWMtr0IWNs82Jif_TFiMmVLCOZiW_HP',\n",
       "     'width': 3000}],\n",
       "   'place_id': 'ChIJn6ginxZu5kcRmAEK0OHm0cI',\n",
       "   'plus_code': {'compound_code': 'V8CX+CX Paris, France',\n",
       "    'global_code': '8FW4V8CX+CX'},\n",
       "   'rating': 4.2,\n",
       "   'reference': 'ChIJn6ginxZu5kcRmAEK0OHm0cI',\n",
       "   'scope': 'GOOGLE',\n",
       "   'types': ['lodging', 'point_of_interest', 'establishment'],\n",
       "   'user_ratings_total': 194,\n",
       "   'vicinity': \"8 Rue d'Hauteville, Paris\"},\n",
       "  {'business_status': 'OPERATIONAL',\n",
       "   'geometry': {'location': {'lat': 48.84754640000001, 'lng': 2.3718722},\n",
       "    'viewport': {'northeast': {'lat': 48.8488750302915,\n",
       "      'lng': 2.373125480291502},\n",
       "     'southwest': {'lat': 48.8461770697085, 'lng': 2.370427519708498}}},\n",
       "   'icon': 'https://maps.gstatic.com/mapfiles/place_api/icons/v1/png_71/lodging-71.png',\n",
       "   'name': 'Hôtel De France Gare de Lyon Bastille',\n",
       "   'photos': [{'height': 787,\n",
       "     'html_attributions': ['<a href=\"https://maps.google.com/maps/contrib/117462031751048846575\">Hôtel De France Gare de Lyon Bastille</a>'],\n",
       "     'photo_reference': 'ATtYBwIhLOiUgZB38txMbvVt328bMNqe-1lPDOtH8R1vxmizM_TEpLbWl1d87LPzGr8P_PJOS5YoZfBhA-5u5nDxPSaA9WDB0kWwVbuJ8PB7SV_wMpxVXAK_4EUqc9McgcnPRYnfe1ou2HJ4IZfk-gzoGkV9fKJNcQATAR9SQpiFKwPzIUBj',\n",
       "     'width': 1181}],\n",
       "   'place_id': 'ChIJz6DBYgNy5kcRhOu1LhDIECM',\n",
       "   'plus_code': {'compound_code': 'R9XC+2P Paris, France',\n",
       "    'global_code': '8FW4R9XC+2P'},\n",
       "   'rating': 3.3,\n",
       "   'reference': 'ChIJz6DBYgNy5kcRhOu1LhDIECM',\n",
       "   'scope': 'GOOGLE',\n",
       "   'types': ['lodging', 'point_of_interest', 'establishment'],\n",
       "   'user_ratings_total': 380,\n",
       "   'vicinity': '12 Rue de Lyon, Paris'},\n",
       "  {'business_status': 'OPERATIONAL',\n",
       "   'geometry': {'location': {'lat': 48.8717386, 'lng': 2.3447052},\n",
       "    'viewport': {'northeast': {'lat': 48.8731394302915,\n",
       "      'lng': 2.346067130291502},\n",
       "     'southwest': {'lat': 48.8704414697085, 'lng': 2.343369169708498}}},\n",
       "   'icon': 'https://maps.gstatic.com/mapfiles/place_api/icons/v1/png_71/lodging-71.png',\n",
       "   'name': 'Hôtel Prélude Opéra Paris',\n",
       "   'opening_hours': {'open_now': True},\n",
       "   'photos': [{'height': 1152,\n",
       "     'html_attributions': ['<a href=\"https://maps.google.com/maps/contrib/103624474621674096768\">carlos MARTINEZ</a>'],\n",
       "     'photo_reference': 'ATtYBwIeV_dWGVDrGhhSKftq3hY89bemt0T5t-A4MW3EZYzMKa_7JYi46i8b3XglIjsUIigyXI-seTAU9STg-MhkF7nkcArZzjp7BLZiEqeD-7R2ExLNjEPWfav8XPQ-p1nckKM1Lv_h7oeregeWGY_giaE6MmJTcK9LwNl0mBTcD8aUuoZ5',\n",
       "     'width': 2048}],\n",
       "   'place_id': 'ChIJ8e3Qcj5u5kcR2MIGwNxustk',\n",
       "   'plus_code': {'compound_code': 'V8CV+MV Paris, France',\n",
       "    'global_code': '8FW4V8CV+MV'},\n",
       "   'rating': 4.1,\n",
       "   'reference': 'ChIJ8e3Qcj5u5kcR2MIGwNxustk',\n",
       "   'scope': 'GOOGLE',\n",
       "   'types': ['lodging', 'point_of_interest', 'establishment'],\n",
       "   'user_ratings_total': 333,\n",
       "   'vicinity': '8 Cité Bergère, Paris'},\n",
       "  {'business_status': 'OPERATIONAL',\n",
       "   'geometry': {'location': {'lat': 48.8423491, 'lng': 2.3632246},\n",
       "    'viewport': {'northeast': {'lat': 48.84365908029149,\n",
       "      'lng': 2.364711430291502},\n",
       "     'southwest': {'lat': 48.8409611197085, 'lng': 2.362013469708498}}},\n",
       "   'icon': 'https://maps.gstatic.com/mapfiles/place_api/icons/v1/png_71/lodging-71.png',\n",
       "   'name': 'Hôtel Libertel Austerlitz Jardin des Plantes',\n",
       "   'opening_hours': {'open_now': True},\n",
       "   'photos': [{'height': 4480,\n",
       "     'html_attributions': ['<a href=\"https://maps.google.com/maps/contrib/114802271282641766772\">Hôtel Libertel Austerlitz Jardin des Plantes</a>'],\n",
       "     'photo_reference': 'ATtYBwIUVZdyDYFQ2A6wyL-P5SdGbWTjy6KY-ZV9Kgyv3KI52TaHcSApb8FRY71YYIiWOvPQwJI7-xRuxOtrB65JPmX1ufIfkYXQkTXPLpqrnrMEW4FSrvJ1gQsBHTvY9zO2WJ50CmjF1lltpyRhliSfSfipV5v4AQkakS0ujCZ1QJbMYVqO',\n",
       "     'width': 6720}],\n",
       "   'place_id': 'ChIJe-udXPZx5kcRKURHNFv5BSw',\n",
       "   'plus_code': {'compound_code': 'R9R7+W7 Paris, France',\n",
       "    'global_code': '8FW4R9R7+W7'},\n",
       "   'rating': 4,\n",
       "   'reference': 'ChIJe-udXPZx5kcRKURHNFv5BSw',\n",
       "   'scope': 'GOOGLE',\n",
       "   'types': ['lodging', 'point_of_interest', 'establishment'],\n",
       "   'user_ratings_total': 433,\n",
       "   'vicinity': \"12 Boulevard de l'Hôpital, Paris\"},\n",
       "  {'business_status': 'OPERATIONAL',\n",
       "   'geometry': {'location': {'lat': 48.864294, 'lng': 2.3307997},\n",
       "    'viewport': {'northeast': {'lat': 48.8655772302915,\n",
       "      'lng': 2.332153880291502},\n",
       "     'southwest': {'lat': 48.8628792697085, 'lng': 2.329455919708498}}},\n",
       "   'icon': 'https://maps.gstatic.com/mapfiles/place_api/icons/v1/png_71/lodging-71.png',\n",
       "   'name': 'Saint James Albany Paris Hôtel Spa',\n",
       "   'opening_hours': {'open_now': True},\n",
       "   'photos': [{'height': 650,\n",
       "     'html_attributions': ['<a href=\"https://maps.google.com/maps/contrib/108570400659068256718\">Saint James Albany Paris Hôtel Spa</a>'],\n",
       "     'photo_reference': 'ATtYBwIpUeDDH7OWrda841UY5Y9WAB2YkQ-XLVc_eiQCr1oRqqC3O7mPokQSd9kck_ulhYGIcBUkD2tHPSaOQOA3_JtQ-heID25WhGWJ8qwsgq1wQ2C6iKlRvSixVGmWdPTQsh9ah1GeKKTzH9HYFzj0fk-FSipd75ZHMJ_yFVrR-5dzJfDU',\n",
       "     'width': 802}],\n",
       "   'place_id': 'ChIJ8znTVS5u5kcREq8TmzOICFs',\n",
       "   'plus_code': {'compound_code': 'V87J+P8 Paris, France',\n",
       "    'global_code': '8FW4V87J+P8'},\n",
       "   'rating': 4,\n",
       "   'reference': 'ChIJ8znTVS5u5kcREq8TmzOICFs',\n",
       "   'scope': 'GOOGLE',\n",
       "   'types': ['lodging',\n",
       "    'bar',\n",
       "    'restaurant',\n",
       "    'food',\n",
       "    'point_of_interest',\n",
       "    'establishment'],\n",
       "   'user_ratings_total': 1072,\n",
       "   'vicinity': '202 Rue de Rivoli, Paris'},\n",
       "  {'business_status': 'OPERATIONAL',\n",
       "   'geometry': {'location': {'lat': 48.87110329999999, 'lng': 2.3389728},\n",
       "    'viewport': {'northeast': {'lat': 48.8724588802915,\n",
       "      'lng': 2.340112930291502},\n",
       "     'southwest': {'lat': 48.8697609197085, 'lng': 2.337414969708499}}},\n",
       "   'icon': 'https://maps.gstatic.com/mapfiles/place_api/icons/v1/png_71/lodging-71.png',\n",
       "   'name': 'Hôtel Icône',\n",
       "   'opening_hours': {'open_now': True},\n",
       "   'photos': [{'height': 1066,\n",
       "     'html_attributions': ['<a href=\"https://maps.google.com/maps/contrib/108137830440312077288\">Hôtel Icône</a>'],\n",
       "     'photo_reference': 'ATtYBwI2DqZF3FdN_LhNZIKdlTXsHNmRUC-jHHzcMJthkDPsil7R-GmJFdWiAO-AYMHnVgRteZ89Kzh4kElvd7rGJeHJhaCu3us61zi2rpYrbpZY9lO2YCy-xerG48dCacscs4fk5C0lTAKK9KrDMYlyYdrSiRjd2gcytCvwdHZkivqWsHcF',\n",
       "     'width': 1600}],\n",
       "   'place_id': 'ChIJpQvq5Dtu5kcR0COam2f7v_I',\n",
       "   'plus_code': {'compound_code': 'V8CQ+CH Paris, France',\n",
       "    'global_code': '8FW4V8CQ+CH'},\n",
       "   'rating': 3.8,\n",
       "   'reference': 'ChIJpQvq5Dtu5kcR0COam2f7v_I',\n",
       "   'scope': 'GOOGLE',\n",
       "   'types': ['lodging', 'point_of_interest', 'establishment'],\n",
       "   'user_ratings_total': 138,\n",
       "   'vicinity': \"4 Rue d'Amboise, Paris\"},\n",
       "  {'business_status': 'OPERATIONAL',\n",
       "   'geometry': {'location': {'lat': 48.8524547, 'lng': 2.3472064},\n",
       "    'viewport': {'northeast': {'lat': 48.8538838802915,\n",
       "      'lng': 2.348601530291502},\n",
       "     'southwest': {'lat': 48.8511859197085, 'lng': 2.345903569708498}}},\n",
       "   'icon': 'https://maps.gstatic.com/mapfiles/place_api/icons/v1/png_71/lodging-71.png',\n",
       "   'name': 'Hôtel Esmeralda',\n",
       "   'opening_hours': {'open_now': True},\n",
       "   'photos': [{'height': 1960,\n",
       "     'html_attributions': ['<a href=\"https://maps.google.com/maps/contrib/106443224837840180239\">Fraz A. Khan</a>'],\n",
       "     'photo_reference': 'ATtYBwJshWZu-PAh_dALSahAuZGGUXQlx58B9eol77FIguR440Tp6kt_mMFxvazXkEHVIcRGocT8qWyd1RXcnMxybOmLRqJIeUXu0mxCUoWdUSkrv73wwzu-i9vn97tSj3jek71S6JMJj1ytJBtPb7M1dww1FSmm0Y2kEs0AV0tEebUAeJDS',\n",
       "     'width': 4032}],\n",
       "   'place_id': 'ChIJO_g_H-Fx5kcRmaabUHA3dT4',\n",
       "   'plus_code': {'compound_code': 'V82W+XV Paris, France',\n",
       "    'global_code': '8FW4V82W+XV'},\n",
       "   'rating': 4.1,\n",
       "   'reference': 'ChIJO_g_H-Fx5kcRmaabUHA3dT4',\n",
       "   'scope': 'GOOGLE',\n",
       "   'types': ['lodging', 'point_of_interest', 'establishment'],\n",
       "   'user_ratings_total': 142,\n",
       "   'vicinity': '4 Rue Saint-Julien le Pauvre, Paris'},\n",
       "  {'business_status': 'OPERATIONAL',\n",
       "   'geometry': {'location': {'lat': 48.8530901, 'lng': 2.3447174},\n",
       "    'viewport': {'northeast': {'lat': 48.8544403302915,\n",
       "      'lng': 2.346001280291502},\n",
       "     'southwest': {'lat': 48.8517423697085, 'lng': 2.343303319708498}}},\n",
       "   'icon': 'https://maps.gstatic.com/mapfiles/place_api/icons/v1/png_71/lodging-71.png',\n",
       "   'name': 'Albe Hotel',\n",
       "   'opening_hours': {'open_now': True},\n",
       "   'photos': [{'height': 1152,\n",
       "     'html_attributions': ['<a href=\"https://maps.google.com/maps/contrib/117571951379278191466\">Albe Hotel Saint Michel</a>'],\n",
       "     'photo_reference': 'ATtYBwK1WZTkenAaQeZ3C3VMFG6wXZvzdA2aAbAUB_SAUNsSIdXJzHvUcavEwh7g72r6f6c5DURzKryeMwQTlX9RjUco-LyOj1gN0N_if86c9PaBpyv0pMHjRnnWZ9eBzCbdkl64cae4wasHsvlMJpV6YbOG1Xno_UoO3kUooLox3rnIbQ_4',\n",
       "     'width': 1600}],\n",
       "   'place_id': 'ChIJ8R5-hOBx5kcRsCOdfj8GLeY',\n",
       "   'plus_code': {'compound_code': 'V83V+6V Paris, France',\n",
       "    'global_code': '8FW4V83V+6V'},\n",
       "   'rating': 4.4,\n",
       "   'reference': 'ChIJ8R5-hOBx5kcRsCOdfj8GLeY',\n",
       "   'scope': 'GOOGLE',\n",
       "   'types': ['lodging', 'point_of_interest', 'establishment'],\n",
       "   'user_ratings_total': 321,\n",
       "   'vicinity': '1 Rue de la Harpe, Paris'},\n",
       "  {'business_status': 'OPERATIONAL',\n",
       "   'geometry': {'location': {'lat': 48.8499394, 'lng': 2.3462397},\n",
       "    'viewport': {'northeast': {'lat': 48.8512682802915,\n",
       "      'lng': 2.347501880291502},\n",
       "     'southwest': {'lat': 48.8485703197085, 'lng': 2.344803919708498}}},\n",
       "   'icon': 'https://maps.gstatic.com/mapfiles/place_api/icons/v1/png_71/lodging-71.png',\n",
       "   'name': 'Home Latin',\n",
       "   'photos': [{'height': 606,\n",
       "     'html_attributions': ['<a href=\"https://maps.google.com/maps/contrib/105830788751825835396\">Peter Sheehan</a>'],\n",
       "     'photo_reference': 'ATtYBwKtSpgTclUh4xRFW9hHDCXBMXUc1XMSqIhHCKQRxVADXv9QkR9cjakVvR-DXIjTR_EYRitFwFvnr9A3Haap6O4vX8j5CxefTohyS5ysNcd0OkkmpMwbsNoC6ZS_WF4t_uNgXDGRDXroHO8vEIq9Q1t5LfqyyteM_iKTwIJkNXvFAQYT',\n",
       "     'width': 1080}],\n",
       "   'place_id': 'ChIJMWNDIudx5kcRupjNdNDYKkw',\n",
       "   'plus_code': {'compound_code': 'R8XW+XF Paris, France',\n",
       "    'global_code': '8FW4R8XW+XF'},\n",
       "   'rating': 3.6,\n",
       "   'reference': 'ChIJMWNDIudx5kcRupjNdNDYKkw',\n",
       "   'scope': 'GOOGLE',\n",
       "   'types': ['lodging', 'point_of_interest', 'establishment'],\n",
       "   'user_ratings_total': 264,\n",
       "   'vicinity': '15-17 Rue du Sommerard, Paris'},\n",
       "  {'business_status': 'OPERATIONAL',\n",
       "   'geometry': {'location': {'lat': 48.85473870000001, 'lng': 2.3395455},\n",
       "    'viewport': {'northeast': {'lat': 48.8561127802915,\n",
       "      'lng': 2.340820530291502},\n",
       "     'southwest': {'lat': 48.8534148197085, 'lng': 2.338122569708498}}},\n",
       "   'icon': 'https://maps.gstatic.com/mapfiles/place_api/icons/v1/png_71/lodging-71.png',\n",
       "   'name': \"Hôtel d'Aubusson\",\n",
       "   'opening_hours': {'open_now': True},\n",
       "   'photos': [{'height': 2174,\n",
       "     'html_attributions': ['<a href=\"https://maps.google.com/maps/contrib/115702439863948549296\">Hôtel d&#39;Aubusson Paris</a>'],\n",
       "     'photo_reference': 'ATtYBwJ4P9-qYhx839vc61MZzgGdPWb_phHmTAzDv6HAVmkWCS_m0-KFJk2GVlCPdCKA331g9zYWO3wfhVy0M0tI1KuI2W2O1JxyQB4vKG6-MB6NSxZR2KJIjoz-9QBlMrGN5iEkzHeYBHdZOkgtTm-qDwmkZbDjXZwKmLbIawN_-l2XwSl9',\n",
       "     'width': 1739}],\n",
       "   'place_id': 'ChIJk6ztMN9x5kcREpQ8edWOs7E',\n",
       "   'plus_code': {'compound_code': 'V83Q+VR Paris, France',\n",
       "    'global_code': '8FW4V83Q+VR'},\n",
       "   'rating': 4.7,\n",
       "   'reference': 'ChIJk6ztMN9x5kcREpQ8edWOs7E',\n",
       "   'scope': 'GOOGLE',\n",
       "   'types': ['lodging', 'point_of_interest', 'establishment'],\n",
       "   'user_ratings_total': 274,\n",
       "   'vicinity': '33 Rue Dauphine, Paris'},\n",
       "  {'business_status': 'OPERATIONAL',\n",
       "   'geometry': {'location': {'lat': 48.85184049999999, 'lng': 2.3448082},\n",
       "    'viewport': {'northeast': {'lat': 48.85313113029149,\n",
       "      'lng': 2.346144730291502},\n",
       "     'southwest': {'lat': 48.8504331697085, 'lng': 2.343446769708498}}},\n",
       "   'icon': 'https://maps.gstatic.com/mapfiles/place_api/icons/v1/png_71/lodging-71.png',\n",
       "   'name': 'Hôtel 4 étoiles Parc Saint Séverin Paris 5ème - Esprit de France',\n",
       "   'opening_hours': {'open_now': True},\n",
       "   'photos': [{'height': 2362,\n",
       "     'html_attributions': ['<a href=\"https://maps.google.com/maps/contrib/107542132357877294567\">Hôtel 4 étoiles Parc Saint Séverin Paris 5ème - Esprit de France</a>'],\n",
       "     'photo_reference': 'ATtYBwKAEcZp8oYLy9qo92oa6VBPGOGm04_YCmEXLCj1eCt-GqQlfsf_4y14TYdXLM8JhXWBmKUq-KOOCKkRvPVDfDKGLvIg0DNXr8K09Lg7Zq1vDmaM89x6_F9T4ZG4s2DXXqP5gekN1VhrUHxuJesSZ_PfoUKVoR3ypgDsoM0vP0qzq9af',\n",
       "     'width': 3776}],\n",
       "   'place_id': 'ChIJ9--kuuBx5kcRojwQ1yEK2cY',\n",
       "   'plus_code': {'compound_code': 'V82V+PW Paris, France',\n",
       "    'global_code': '8FW4V82V+PW'},\n",
       "   'rating': 4.6,\n",
       "   'reference': 'ChIJ9--kuuBx5kcRojwQ1yEK2cY',\n",
       "   'scope': 'GOOGLE',\n",
       "   'types': ['lodging', 'point_of_interest', 'establishment'],\n",
       "   'user_ratings_total': 139,\n",
       "   'vicinity': '22 Rue de la Parcheminerie, Paris'}],\n",
       " 'status': 'OK'}"
      ]
     },
     "metadata": {},
     "execution_count": 64
    }
   ],
   "source": [
    "# Use base URL to search for hotels in Paris.\n",
    "base_url = \"https://maps.googleapis.com/maps/api/place/nearbysearch/json\"\n",
    "# Make request and get the JSON data from the search.\n",
    "hotels = requests.get(base_url, params=params).json()\n",
    "hotels"
   ]
  },
  {
   "cell_type": "code",
   "execution_count": 65,
   "metadata": {},
   "outputs": [
    {
     "output_type": "execute_result",
     "data": {
      "text/plain": [
       "20"
      ]
     },
     "metadata": {},
     "execution_count": 65
    }
   ],
   "source": [
    "len(hotels[\"results\"])"
   ]
  },
  {
   "cell_type": "code",
   "execution_count": 66,
   "metadata": {},
   "outputs": [
    {
     "output_type": "execute_result",
     "data": {
      "text/plain": [
       "'Hôtel Duo'"
      ]
     },
     "metadata": {},
     "execution_count": 66
    }
   ],
   "source": [
    "hotels[\"results\"][0][\"name\"]"
   ]
  },
  {
   "cell_type": "code",
   "execution_count": 67,
   "metadata": {},
   "outputs": [
    {
     "output_type": "stream",
     "name": "stdout",
     "text": [
      "Hotel not found... skipping.\n",
      "Hotel not found... skipping.\n",
      "Hotel not found... skipping.\n",
      "Hotel not found... skipping.\n",
      "Hotel not found... skipping.\n",
      "Hotel not found... skipping.\n",
      "Hotel not found... skipping.\n",
      "Hotel not found... skipping.\n",
      "Hotel not found... skipping.\n",
      "Hotel not found... skipping.\n",
      "Hotel not found... skipping.\n",
      "Hotel not found... skipping.\n",
      "Hotel not found... skipping.\n",
      "Hotel not found... skipping.\n",
      "Hotel not found... skipping.\n",
      "Hotel not found... skipping.\n"
     ]
    }
   ],
   "source": [
    "# Iterate through the DataFrame.\n",
    "for index, row in hotel_df.iterrows():\n",
    "    # Get the latitude and longitude.\n",
    "    lat = row[\"Lat\"]\n",
    "    lng = row[\"Lng\"]\n",
    "\n",
    "    # Add the latitude and longitude to location key for the params dictionary.\n",
    "    params[\"location\"] = f\"{lat},{lng}\"\n",
    "\n",
    "    # Use the search term: \"lodging\" and our latitude and longitude.\n",
    "    base_url = \"https://maps.googleapis.com/maps/api/place/nearbysearch/json\"\n",
    "    # Make request and get the JSON data from the search.\n",
    "    hotels = requests.get(base_url, params=params).json()\n",
    "    # Grab the first hotel from the results and store the name.\n",
    "    try:\n",
    "        hotel_df.loc[index, \"Hotel Name\"] = hotels[\"results\"][0][\"name\"]\n",
    "        hotel_df.head()\n",
    "    except (IndexError):\n",
    "        print(\"Hotel not found... skipping.\")"
   ]
  },
  {
   "cell_type": "code",
   "execution_count": 68,
   "metadata": {},
   "outputs": [
    {
     "output_type": "execute_result",
     "data": {
      "text/plain": [
       "                City Country  Max Temp      Lat       Lng  \\\n",
       "10            Avarua      CK     78.80 -21.2078 -159.7750   \n",
       "15             Conde      BR     78.80  -7.2597  -34.9075   \n",
       "24           Rikitea      PF     76.03 -23.1203 -134.9692   \n",
       "27   Bambous Virieux      MU     77.00 -20.3428   57.7575   \n",
       "28           Prainha      BR     80.13  -1.8000  -53.4800   \n",
       "..               ...     ...       ...      ...       ...   \n",
       "544         Portland      US     77.00  45.5234 -122.6762   \n",
       "545   Kulhudhuffushi      MV     83.61   6.6221   73.0700   \n",
       "550        Manokwari      ID     79.09  -0.8667  134.0833   \n",
       "555    Vargem Grande      BR     78.89  -3.5431  -43.9158   \n",
       "560       Guararapes      BR     81.93 -21.2608  -50.6428   \n",
       "\n",
       "                                     Hotel Name  \n",
       "10                                 Paradise Inn  \n",
       "15                           Pousada Beija Flor  \n",
       "24                               Pension Maro'i  \n",
       "27                               Casa Tia Villa  \n",
       "28                               Hotel Teixeira  \n",
       "..                                          ...  \n",
       "544  Embassy Suites by Hilton Portland Downtown  \n",
       "545                         Haajy Guest House 1  \n",
       "550                    Swiss Belhotel Manokwari  \n",
       "555                            Pousada Thalajuy  \n",
       "560                     Hotel Nacional Business  \n",
       "\n",
       "[188 rows x 6 columns]"
      ],
      "text/html": "<div>\n<style scoped>\n    .dataframe tbody tr th:only-of-type {\n        vertical-align: middle;\n    }\n\n    .dataframe tbody tr th {\n        vertical-align: top;\n    }\n\n    .dataframe thead th {\n        text-align: right;\n    }\n</style>\n<table border=\"1\" class=\"dataframe\">\n  <thead>\n    <tr style=\"text-align: right;\">\n      <th></th>\n      <th>City</th>\n      <th>Country</th>\n      <th>Max Temp</th>\n      <th>Lat</th>\n      <th>Lng</th>\n      <th>Hotel Name</th>\n    </tr>\n  </thead>\n  <tbody>\n    <tr>\n      <th>10</th>\n      <td>Avarua</td>\n      <td>CK</td>\n      <td>78.80</td>\n      <td>-21.2078</td>\n      <td>-159.7750</td>\n      <td>Paradise Inn</td>\n    </tr>\n    <tr>\n      <th>15</th>\n      <td>Conde</td>\n      <td>BR</td>\n      <td>78.80</td>\n      <td>-7.2597</td>\n      <td>-34.9075</td>\n      <td>Pousada Beija Flor</td>\n    </tr>\n    <tr>\n      <th>24</th>\n      <td>Rikitea</td>\n      <td>PF</td>\n      <td>76.03</td>\n      <td>-23.1203</td>\n      <td>-134.9692</td>\n      <td>Pension Maro'i</td>\n    </tr>\n    <tr>\n      <th>27</th>\n      <td>Bambous Virieux</td>\n      <td>MU</td>\n      <td>77.00</td>\n      <td>-20.3428</td>\n      <td>57.7575</td>\n      <td>Casa Tia Villa</td>\n    </tr>\n    <tr>\n      <th>28</th>\n      <td>Prainha</td>\n      <td>BR</td>\n      <td>80.13</td>\n      <td>-1.8000</td>\n      <td>-53.4800</td>\n      <td>Hotel Teixeira</td>\n    </tr>\n    <tr>\n      <th>...</th>\n      <td>...</td>\n      <td>...</td>\n      <td>...</td>\n      <td>...</td>\n      <td>...</td>\n      <td>...</td>\n    </tr>\n    <tr>\n      <th>544</th>\n      <td>Portland</td>\n      <td>US</td>\n      <td>77.00</td>\n      <td>45.5234</td>\n      <td>-122.6762</td>\n      <td>Embassy Suites by Hilton Portland Downtown</td>\n    </tr>\n    <tr>\n      <th>545</th>\n      <td>Kulhudhuffushi</td>\n      <td>MV</td>\n      <td>83.61</td>\n      <td>6.6221</td>\n      <td>73.0700</td>\n      <td>Haajy Guest House 1</td>\n    </tr>\n    <tr>\n      <th>550</th>\n      <td>Manokwari</td>\n      <td>ID</td>\n      <td>79.09</td>\n      <td>-0.8667</td>\n      <td>134.0833</td>\n      <td>Swiss Belhotel Manokwari</td>\n    </tr>\n    <tr>\n      <th>555</th>\n      <td>Vargem Grande</td>\n      <td>BR</td>\n      <td>78.89</td>\n      <td>-3.5431</td>\n      <td>-43.9158</td>\n      <td>Pousada Thalajuy</td>\n    </tr>\n    <tr>\n      <th>560</th>\n      <td>Guararapes</td>\n      <td>BR</td>\n      <td>81.93</td>\n      <td>-21.2608</td>\n      <td>-50.6428</td>\n      <td>Hotel Nacional Business</td>\n    </tr>\n  </tbody>\n</table>\n<p>188 rows × 6 columns</p>\n</div>"
     },
     "metadata": {},
     "execution_count": 68
    }
   ],
   "source": [
    "hotel_df"
   ]
  },
  {
   "cell_type": "code",
   "execution_count": 69,
   "metadata": {},
   "outputs": [
    {
     "output_type": "execute_result",
     "data": {
      "text/plain": [
       "City          188\n",
       "Country       188\n",
       "Max Temp      188\n",
       "Lat           188\n",
       "Lng           188\n",
       "Hotel Name    188\n",
       "dtype: int64"
      ]
     },
     "metadata": {},
     "execution_count": 69
    }
   ],
   "source": [
    "hotel_df.count()"
   ]
  },
  {
   "cell_type": "code",
   "execution_count": 70,
   "metadata": {},
   "outputs": [
    {
     "output_type": "display_data",
     "data": {
      "text/plain": "Figure(layout=FigureLayout(height='420px'))",
      "application/vnd.jupyter.widget-view+json": {
       "version_major": 2,
       "version_minor": 0,
       "model_id": "92190c9ef2d8421bae017db924bc2e66"
      }
     },
     "metadata": {}
    }
   ],
   "source": [
    "# Add a heatmap of temperature for the vacation spots.\n",
    "locations = hotel_df[[\"Lat\", \"Lng\"]]\n",
    "max_temp = hotel_df[\"Max Temp\"]\n",
    "fig = gmaps.figure(center=(30.0, 31.0), zoom_level=1.5)\n",
    "heat_layer = gmaps.heatmap_layer(locations, weights=max_temp, dissipating=False,\n",
    "             max_intensity=300, point_radius=4)\n",
    "\n",
    "fig.add_layer(heat_layer)\n",
    "# Call the figure to plot the data.\n",
    "fig"
   ]
  },
  {
   "cell_type": "code",
   "execution_count": 71,
   "metadata": {},
   "outputs": [
    {
     "output_type": "display_data",
     "data": {
      "text/plain": "Figure(layout=FigureLayout(height='420px'))",
      "application/vnd.jupyter.widget-view+json": {
       "version_major": 2,
       "version_minor": 0,
       "model_id": "012660e6bdf24c98a29d28963d134ac5"
      }
     },
     "metadata": {}
    }
   ],
   "source": [
    "# Add a heatmap of temperature for the vacation spots and marker for each city.\n",
    "locations = hotel_df[[\"Lat\", \"Lng\"]]\n",
    "max_temp = hotel_df[\"Max Temp\"]\n",
    "fig = gmaps.figure(center=(30.0, 31.0), zoom_level=1.5)\n",
    "heat_layer = gmaps.heatmap_layer(locations, weights=max_temp,\n",
    "             dissipating=False, max_intensity=300, point_radius=4)\n",
    "marker_layer = gmaps.marker_layer(locations)\n",
    "fig.add_layer(heat_layer)\n",
    "fig.add_layer(marker_layer)\n",
    "# Call the figure to plot the data.\n",
    "fig"
   ]
  },
  {
   "cell_type": "code",
   "execution_count": 72,
   "metadata": {},
   "outputs": [],
   "source": [
    "info_box_template = \"\"\"\n",
    "<dl>\n",
    "<dt>Hotel Name</dt><dd>{Hotel Name}</dd>\n",
    "<dt>City</dt><dd>{City}</dd>\n",
    "<dt>Country</dt><dd>{Country}</dd>\n",
    "<dt>Max Temp</dt><dd>{Max Temp} °F</dd>\n",
    "</dl>\n",
    "\"\"\"\n",
    "hotel_info = [info_box_template.format(**row) for index, row in hotel_df.iterrows()]"
   ]
  },
  {
   "cell_type": "code",
   "execution_count": 73,
   "metadata": {},
   "outputs": [
    {
     "output_type": "display_data",
     "data": {
      "text/plain": "Figure(layout=FigureLayout(height='420px'))",
      "application/vnd.jupyter.widget-view+json": {
       "version_major": 2,
       "version_minor": 0,
       "model_id": "1900a9c65fd241c2854b7a9ef97b3e50"
      }
     },
     "metadata": {}
    }
   ],
   "source": [
    "# Add a heatmap of temperature for the vacation spots and a pop-up marker for each city\n",
    "locations = hotel_df[['Lat', 'Lng']]\n",
    "max_temp = hotel_df[\"Max Temp\"]\n",
    "fig = gmaps.figure(center=(30.0, 31.0), zoom_level=1.5)\n",
    "heat_layer = gmaps.heatmap_layer(locations, weights=max_temp, dissipating=False, \\\n",
    "            max_intensity=300, point_radius=4)\n",
    "marker_layer = gmaps.marker_layer(locations, info_box_content=hotel_info)\n",
    "fig.add_layer(heat_layer)\n",
    "fig.add_layer(marker_layer)\n",
    "# Call the figure to plot the data. \n",
    "fig"
   ]
  },
  {
   "cell_type": "code",
   "execution_count": null,
   "metadata": {},
   "outputs": [],
   "source": []
  }
 ],
 "metadata": {
  "kernelspec": {
   "name": "pythondata",
   "display_name": "Python 3.7.9 64-bit ('PythonData': conda)"
  },
  "language_info": {
   "codemirror_mode": {
    "name": "ipython",
    "version": 3
   },
   "file_extension": ".py",
   "mimetype": "text/x-python",
   "name": "python",
   "nbconvert_exporter": "python",
   "pygments_lexer": "ipython3",
   "version": "3.7.9"
  }
 },
 "nbformat": 4,
 "nbformat_minor": 4
}