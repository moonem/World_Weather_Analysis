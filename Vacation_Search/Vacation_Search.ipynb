{
 "cells": [
  {
   "cell_type": "markdown",
   "metadata": {},
   "source": [
    "## Deliverable 2. Create a Customer Travel Destinations Map."
   ]
  },
  {
   "cell_type": "code",
   "execution_count": 3,
   "metadata": {},
   "outputs": [],
   "source": [
    "# Dependencies and Setup\n",
    "import pandas as pd\n",
    "import requests\n",
    "import gmaps\n",
    "\n",
    "# Import API key\n",
    "from config import g_key\n",
    "\n",
    "# Configure gmaps API key\n",
    "gmaps.configure(api_key=g_key)"
   ]
  },
  {
   "cell_type": "code",
   "execution_count": 6,
   "metadata": {},
   "outputs": [
    {
     "output_type": "execute_result",
     "data": {
      "text/plain": [
       "   City_ID          City Country      Lat       Lng  Max Temp  Humidity  \\\n",
       "0        0   New Norfolk      AU -42.7826  147.0587     54.90        50   \n",
       "1        1  Tebingtinggi      ID   3.3285   99.1625     87.85        52   \n",
       "2        2        Kodiak      US  57.7900 -152.4072     62.11        39   \n",
       "3        3      Carupano      VE  10.6678  -63.2585     75.60        90   \n",
       "4        4      Hermanus      ZA -34.4187   19.2345     57.90        63   \n",
       "\n",
       "   Cloudiness  Wind Speed Current Description  \n",
       "0          86        4.00     overcast clouds  \n",
       "1          91        4.63     overcast clouds  \n",
       "2           1       10.36           clear sky  \n",
       "3           3        8.28           clear sky  \n",
       "4          87        6.24     overcast clouds  "
      ],
      "text/html": "<div>\n<style scoped>\n    .dataframe tbody tr th:only-of-type {\n        vertical-align: middle;\n    }\n\n    .dataframe tbody tr th {\n        vertical-align: top;\n    }\n\n    .dataframe thead th {\n        text-align: right;\n    }\n</style>\n<table border=\"1\" class=\"dataframe\">\n  <thead>\n    <tr style=\"text-align: right;\">\n      <th></th>\n      <th>City_ID</th>\n      <th>City</th>\n      <th>Country</th>\n      <th>Lat</th>\n      <th>Lng</th>\n      <th>Max Temp</th>\n      <th>Humidity</th>\n      <th>Cloudiness</th>\n      <th>Wind Speed</th>\n      <th>Current Description</th>\n    </tr>\n  </thead>\n  <tbody>\n    <tr>\n      <th>0</th>\n      <td>0</td>\n      <td>New Norfolk</td>\n      <td>AU</td>\n      <td>-42.7826</td>\n      <td>147.0587</td>\n      <td>54.90</td>\n      <td>50</td>\n      <td>86</td>\n      <td>4.00</td>\n      <td>overcast clouds</td>\n    </tr>\n    <tr>\n      <th>1</th>\n      <td>1</td>\n      <td>Tebingtinggi</td>\n      <td>ID</td>\n      <td>3.3285</td>\n      <td>99.1625</td>\n      <td>87.85</td>\n      <td>52</td>\n      <td>91</td>\n      <td>4.63</td>\n      <td>overcast clouds</td>\n    </tr>\n    <tr>\n      <th>2</th>\n      <td>2</td>\n      <td>Kodiak</td>\n      <td>US</td>\n      <td>57.7900</td>\n      <td>-152.4072</td>\n      <td>62.11</td>\n      <td>39</td>\n      <td>1</td>\n      <td>10.36</td>\n      <td>clear sky</td>\n    </tr>\n    <tr>\n      <th>3</th>\n      <td>3</td>\n      <td>Carupano</td>\n      <td>VE</td>\n      <td>10.6678</td>\n      <td>-63.2585</td>\n      <td>75.60</td>\n      <td>90</td>\n      <td>3</td>\n      <td>8.28</td>\n      <td>clear sky</td>\n    </tr>\n    <tr>\n      <th>4</th>\n      <td>4</td>\n      <td>Hermanus</td>\n      <td>ZA</td>\n      <td>-34.4187</td>\n      <td>19.2345</td>\n      <td>57.90</td>\n      <td>63</td>\n      <td>87</td>\n      <td>6.24</td>\n      <td>overcast clouds</td>\n    </tr>\n  </tbody>\n</table>\n</div>"
     },
     "metadata": {},
     "execution_count": 6
    }
   ],
   "source": [
    "# 1. Import the WeatherPy_database.csv file. \n",
    "city_data_df = pd.read_csv(\"../Weather_Database/WeatherPy_Database.csv\")\n",
    "city_data_df.head()"
   ]
  },
  {
   "cell_type": "code",
   "execution_count": 7,
   "metadata": {},
   "outputs": [],
   "source": [
    "# 2. Prompt the user to enter minimum and maximum temperature criteria \n",
    "min_temp = float(input(\"What is the minimum temperature you would like for your trip? \"))\n",
    "max_temp = float(input(\"What is the maximum temperature you would like for your trip? \"))"
   ]
  },
  {
   "cell_type": "code",
   "execution_count": 12,
   "metadata": {},
   "outputs": [
    {
     "output_type": "execute_result",
     "data": {
      "text/plain": [
       "    City_ID          City Country      Lat       Lng  Max Temp  Humidity  \\\n",
       "1         1  Tebingtinggi      ID   3.3285   99.1625     87.85        52   \n",
       "3         3      Carupano      VE  10.6678  -63.2585     75.60        90   \n",
       "7         7       Kahului      US  20.8947 -156.4700     78.82        81   \n",
       "8         8        Avarua      CK -21.2078 -159.7750     80.65        83   \n",
       "12       12      Jinchang      CN  38.4953  102.1739     76.15        11   \n",
       "\n",
       "    Cloudiness  Wind Speed Current Description  \n",
       "1           91        4.63     overcast clouds  \n",
       "3            3        8.28           clear sky  \n",
       "7           40       10.36    scattered clouds  \n",
       "8           20        4.61          light rain  \n",
       "12           0       17.16           clear sky  "
      ],
      "text/html": "<div>\n<style scoped>\n    .dataframe tbody tr th:only-of-type {\n        vertical-align: middle;\n    }\n\n    .dataframe tbody tr th {\n        vertical-align: top;\n    }\n\n    .dataframe thead th {\n        text-align: right;\n    }\n</style>\n<table border=\"1\" class=\"dataframe\">\n  <thead>\n    <tr style=\"text-align: right;\">\n      <th></th>\n      <th>City_ID</th>\n      <th>City</th>\n      <th>Country</th>\n      <th>Lat</th>\n      <th>Lng</th>\n      <th>Max Temp</th>\n      <th>Humidity</th>\n      <th>Cloudiness</th>\n      <th>Wind Speed</th>\n      <th>Current Description</th>\n    </tr>\n  </thead>\n  <tbody>\n    <tr>\n      <th>1</th>\n      <td>1</td>\n      <td>Tebingtinggi</td>\n      <td>ID</td>\n      <td>3.3285</td>\n      <td>99.1625</td>\n      <td>87.85</td>\n      <td>52</td>\n      <td>91</td>\n      <td>4.63</td>\n      <td>overcast clouds</td>\n    </tr>\n    <tr>\n      <th>3</th>\n      <td>3</td>\n      <td>Carupano</td>\n      <td>VE</td>\n      <td>10.6678</td>\n      <td>-63.2585</td>\n      <td>75.60</td>\n      <td>90</td>\n      <td>3</td>\n      <td>8.28</td>\n      <td>clear sky</td>\n    </tr>\n    <tr>\n      <th>7</th>\n      <td>7</td>\n      <td>Kahului</td>\n      <td>US</td>\n      <td>20.8947</td>\n      <td>-156.4700</td>\n      <td>78.82</td>\n      <td>81</td>\n      <td>40</td>\n      <td>10.36</td>\n      <td>scattered clouds</td>\n    </tr>\n    <tr>\n      <th>8</th>\n      <td>8</td>\n      <td>Avarua</td>\n      <td>CK</td>\n      <td>-21.2078</td>\n      <td>-159.7750</td>\n      <td>80.65</td>\n      <td>83</td>\n      <td>20</td>\n      <td>4.61</td>\n      <td>light rain</td>\n    </tr>\n    <tr>\n      <th>12</th>\n      <td>12</td>\n      <td>Jinchang</td>\n      <td>CN</td>\n      <td>38.4953</td>\n      <td>102.1739</td>\n      <td>76.15</td>\n      <td>11</td>\n      <td>0</td>\n      <td>17.16</td>\n      <td>clear sky</td>\n    </tr>\n  </tbody>\n</table>\n</div>"
     },
     "metadata": {},
     "execution_count": 12
    }
   ],
   "source": [
    "# 3. Filter the city_data_df DataFrame using the input statements to create a new DataFrame using the loc method.\n",
    "clean_df = city_data_df.loc[(city_data_df[\"Max Temp\"] <= max_temp) & \\\n",
    "                                        (city_data_df[\"Max Temp\"] >= min_temp)]\n",
    "clean_df.head()"
   ]
  },
  {
   "cell_type": "code",
   "execution_count": 13,
   "metadata": {},
   "outputs": [
    {
     "output_type": "execute_result",
     "data": {
      "text/plain": [
       "City_ID                0\n",
       "City                   0\n",
       "Country                0\n",
       "Lat                    0\n",
       "Lng                    0\n",
       "Max Temp               0\n",
       "Humidity               0\n",
       "Cloudiness             0\n",
       "Wind Speed             0\n",
       "Current Description    0\n",
       "dtype: int64"
      ]
     },
     "metadata": {},
     "execution_count": 13
    }
   ],
   "source": [
    "# 4a. Determine if there are any empty rows.\n",
    "clean_df.isnull().sum()"
   ]
  },
  {
   "cell_type": "code",
   "execution_count": 6,
   "metadata": {},
   "outputs": [],
   "source": [
    "# 4b. Drop any empty rows and create a new DataFrame that doesn’t have empty rows.\n",
    "######          No empty row        ######"
   ]
  },
  {
   "cell_type": "code",
   "execution_count": 14,
   "metadata": {},
   "outputs": [
    {
     "output_type": "execute_result",
     "data": {
      "text/plain": [
       "            City Country  Max Temp Current Description      Lat       Lng  \\\n",
       "1   Tebingtinggi      ID     87.85     overcast clouds   3.3285   99.1625   \n",
       "3       Carupano      VE     75.60           clear sky  10.6678  -63.2585   \n",
       "7        Kahului      US     78.82    scattered clouds  20.8947 -156.4700   \n",
       "8         Avarua      CK     80.65          light rain -21.2078 -159.7750   \n",
       "12      Jinchang      CN     76.15           clear sky  38.4953  102.1739   \n",
       "19         Kapaa      US     80.58    scattered clouds  22.0752 -159.3190   \n",
       "32    Butaritari      KI     82.08     overcast clouds   3.0707  172.7902   \n",
       "36       Kendari      ID     86.05       broken clouds  -3.9450  122.4989   \n",
       "39      Dong Hoi      VN     85.41     overcast clouds  17.4833  106.6000   \n",
       "40        Omboue      GA     77.49       broken clouds  -1.5746    9.2618   \n",
       "\n",
       "   Hotel Name  \n",
       "1              \n",
       "3              \n",
       "7              \n",
       "8              \n",
       "12             \n",
       "19             \n",
       "32             \n",
       "36             \n",
       "39             \n",
       "40             "
      ],
      "text/html": "<div>\n<style scoped>\n    .dataframe tbody tr th:only-of-type {\n        vertical-align: middle;\n    }\n\n    .dataframe tbody tr th {\n        vertical-align: top;\n    }\n\n    .dataframe thead th {\n        text-align: right;\n    }\n</style>\n<table border=\"1\" class=\"dataframe\">\n  <thead>\n    <tr style=\"text-align: right;\">\n      <th></th>\n      <th>City</th>\n      <th>Country</th>\n      <th>Max Temp</th>\n      <th>Current Description</th>\n      <th>Lat</th>\n      <th>Lng</th>\n      <th>Hotel Name</th>\n    </tr>\n  </thead>\n  <tbody>\n    <tr>\n      <th>1</th>\n      <td>Tebingtinggi</td>\n      <td>ID</td>\n      <td>87.85</td>\n      <td>overcast clouds</td>\n      <td>3.3285</td>\n      <td>99.1625</td>\n      <td></td>\n    </tr>\n    <tr>\n      <th>3</th>\n      <td>Carupano</td>\n      <td>VE</td>\n      <td>75.60</td>\n      <td>clear sky</td>\n      <td>10.6678</td>\n      <td>-63.2585</td>\n      <td></td>\n    </tr>\n    <tr>\n      <th>7</th>\n      <td>Kahului</td>\n      <td>US</td>\n      <td>78.82</td>\n      <td>scattered clouds</td>\n      <td>20.8947</td>\n      <td>-156.4700</td>\n      <td></td>\n    </tr>\n    <tr>\n      <th>8</th>\n      <td>Avarua</td>\n      <td>CK</td>\n      <td>80.65</td>\n      <td>light rain</td>\n      <td>-21.2078</td>\n      <td>-159.7750</td>\n      <td></td>\n    </tr>\n    <tr>\n      <th>12</th>\n      <td>Jinchang</td>\n      <td>CN</td>\n      <td>76.15</td>\n      <td>clear sky</td>\n      <td>38.4953</td>\n      <td>102.1739</td>\n      <td></td>\n    </tr>\n    <tr>\n      <th>19</th>\n      <td>Kapaa</td>\n      <td>US</td>\n      <td>80.58</td>\n      <td>scattered clouds</td>\n      <td>22.0752</td>\n      <td>-159.3190</td>\n      <td></td>\n    </tr>\n    <tr>\n      <th>32</th>\n      <td>Butaritari</td>\n      <td>KI</td>\n      <td>82.08</td>\n      <td>overcast clouds</td>\n      <td>3.0707</td>\n      <td>172.7902</td>\n      <td></td>\n    </tr>\n    <tr>\n      <th>36</th>\n      <td>Kendari</td>\n      <td>ID</td>\n      <td>86.05</td>\n      <td>broken clouds</td>\n      <td>-3.9450</td>\n      <td>122.4989</td>\n      <td></td>\n    </tr>\n    <tr>\n      <th>39</th>\n      <td>Dong Hoi</td>\n      <td>VN</td>\n      <td>85.41</td>\n      <td>overcast clouds</td>\n      <td>17.4833</td>\n      <td>106.6000</td>\n      <td></td>\n    </tr>\n    <tr>\n      <th>40</th>\n      <td>Omboue</td>\n      <td>GA</td>\n      <td>77.49</td>\n      <td>broken clouds</td>\n      <td>-1.5746</td>\n      <td>9.2618</td>\n      <td></td>\n    </tr>\n  </tbody>\n</table>\n</div>"
     },
     "metadata": {},
     "execution_count": 14
    }
   ],
   "source": [
    "# 5a. Create DataFrame called hotel_df to store hotel names along with city, country, max temp, and coordinates.\n",
    "hotel_df = clean_df[[\"City\", \"Country\", \"Max Temp\", \"Current Description\", \"Lat\", \"Lng\"]].copy()\n",
    "\n",
    "# 5b. Create a new column \"Hotel Name\"\n",
    "hotel_df[\"Hotel Name\"] = \"\"\n",
    "hotel_df.head(10)"
   ]
  },
  {
   "cell_type": "code",
   "execution_count": 19,
   "metadata": {},
   "outputs": [
    {
     "output_type": "stream",
     "name": "stdout",
     "text": [
      "Hotel not found... skipping.\n",
      "Hotel not found... skipping.\n",
      "Hotel not found... skipping.\n",
      "Hotel not found... skipping.\n",
      "Hotel not found... skipping.\n",
      "Hotel not found... skipping.\n",
      "Hotel not found... skipping.\n",
      "Hotel not found... skipping.\n",
      "Hotel not found... skipping.\n",
      "Hotel not found... skipping.\n",
      "Hotel not found... skipping.\n",
      "Hotel not found... skipping.\n",
      "Hotel not found... skipping.\n",
      "Hotel not found... skipping.\n",
      "Hotel not found... skipping.\n",
      "Hotel not found... skipping.\n",
      "Hotel not found... skipping.\n",
      "Hotel not found... skipping.\n",
      "Hotel not found... skipping.\n",
      "Hotel not found... skipping.\n",
      "Hotel not found... skipping.\n"
     ]
    },
    {
     "output_type": "execute_result",
     "data": {
      "text/plain": [
       "            City Country  Max Temp Current Description      Lat       Lng  \\\n",
       "1   Tebingtinggi      ID     87.85     overcast clouds   3.3285   99.1625   \n",
       "3       Carupano      VE     75.60           clear sky  10.6678  -63.2585   \n",
       "7        Kahului      US     78.82    scattered clouds  20.8947 -156.4700   \n",
       "8         Avarua      CK     80.65          light rain -21.2078 -159.7750   \n",
       "12      Jinchang      CN     76.15           clear sky  38.4953  102.1739   \n",
       "\n",
       "                                 Hotel Name  \n",
       "1               Hotel Malibou tebing tinggi  \n",
       "3                           Hotel La dorada  \n",
       "7                        Maui Seaside Hotel  \n",
       "8                              Paradise Inn  \n",
       "12  Mingshihui Jinchang International Hotel  "
      ],
      "text/html": "<div>\n<style scoped>\n    .dataframe tbody tr th:only-of-type {\n        vertical-align: middle;\n    }\n\n    .dataframe tbody tr th {\n        vertical-align: top;\n    }\n\n    .dataframe thead th {\n        text-align: right;\n    }\n</style>\n<table border=\"1\" class=\"dataframe\">\n  <thead>\n    <tr style=\"text-align: right;\">\n      <th></th>\n      <th>City</th>\n      <th>Country</th>\n      <th>Max Temp</th>\n      <th>Current Description</th>\n      <th>Lat</th>\n      <th>Lng</th>\n      <th>Hotel Name</th>\n    </tr>\n  </thead>\n  <tbody>\n    <tr>\n      <th>1</th>\n      <td>Tebingtinggi</td>\n      <td>ID</td>\n      <td>87.85</td>\n      <td>overcast clouds</td>\n      <td>3.3285</td>\n      <td>99.1625</td>\n      <td>Hotel Malibou tebing tinggi</td>\n    </tr>\n    <tr>\n      <th>3</th>\n      <td>Carupano</td>\n      <td>VE</td>\n      <td>75.60</td>\n      <td>clear sky</td>\n      <td>10.6678</td>\n      <td>-63.2585</td>\n      <td>Hotel La dorada</td>\n    </tr>\n    <tr>\n      <th>7</th>\n      <td>Kahului</td>\n      <td>US</td>\n      <td>78.82</td>\n      <td>scattered clouds</td>\n      <td>20.8947</td>\n      <td>-156.4700</td>\n      <td>Maui Seaside Hotel</td>\n    </tr>\n    <tr>\n      <th>8</th>\n      <td>Avarua</td>\n      <td>CK</td>\n      <td>80.65</td>\n      <td>light rain</td>\n      <td>-21.2078</td>\n      <td>-159.7750</td>\n      <td>Paradise Inn</td>\n    </tr>\n    <tr>\n      <th>12</th>\n      <td>Jinchang</td>\n      <td>CN</td>\n      <td>76.15</td>\n      <td>clear sky</td>\n      <td>38.4953</td>\n      <td>102.1739</td>\n      <td>Mingshihui Jinchang International Hotel</td>\n    </tr>\n  </tbody>\n</table>\n</div>"
     },
     "metadata": {},
     "execution_count": 19
    }
   ],
   "source": [
    "# 6a. Set parameters to search for hotels with 5000 meters.\n",
    "params = {\n",
    "    \"radius\": 5000,\n",
    "    \"type\": \"lodging\",\n",
    "    \"key\": g_key\n",
    "}\n",
    "\n",
    "# 6b. Iterate through the hotel DataFrame.\n",
    "for index, row in hotel_df.iterrows():\n",
    "    # 6c. Get latitude and longitude from DataFrame\n",
    "    lat = row[\"Lat\"]\n",
    "    lng = row[\"Lng\"]\n",
    "    \n",
    "    # Add the latitude and longitude to location key for the params dictionary.\n",
    "    params[\"location\"] = f\"{lat},{lng}\"\n",
    "    \n",
    "    # 6d. Set up the base URL for the Google Directions API to get JSON data.\n",
    "    base_url = \"https://maps.googleapis.com/maps/api/place/nearbysearch/json\"\n",
    "\n",
    "    # 6e. Make request and retrieve the JSON data from the search. \n",
    "    hotels = requests.get(base_url, params=params).json()\n",
    "    \n",
    "    # 6f. Get the first hotel from the results and store the name, if a hotel isn't found skip the city.\n",
    "    try:\n",
    "        hotel_df.loc[index, \"Hotel Name\"] = hotels[\"results\"][0][\"name\"]\n",
    "        \n",
    "    except (IndexError):\n",
    "        print(\"Hotel not found... skipping.\")\n",
    "hotel_df.head()        "
   ]
  },
  {
   "cell_type": "code",
   "execution_count": 20,
   "metadata": {},
   "outputs": [
    {
     "output_type": "execute_result",
     "data": {
      "text/plain": [
       "City                   0\n",
       "Country                0\n",
       "Max Temp               0\n",
       "Current Description    0\n",
       "Lat                    0\n",
       "Lng                    0\n",
       "Hotel Name             0\n",
       "dtype: int64"
      ]
     },
     "metadata": {},
     "execution_count": 20
    }
   ],
   "source": [
    "# 7. Drop the rows where there is no Hotel Name.\n",
    "hotel_df.isnull().sum()"
   ]
  },
  {
   "cell_type": "code",
   "execution_count": 21,
   "metadata": {},
   "outputs": [],
   "source": [
    "# 8a. Create the output File (CSV)\n",
    "output_data_file = \"WeatherPy_vacation.csv\"\n",
    "# 8b. Export the City_Data into a csv\n",
    "clean_hotel_df = hotel_df\n",
    "clean_hotel_df.to_csv(output_data_file, index_label=\"City_ID\")"
   ]
  },
  {
   "cell_type": "code",
   "execution_count": 22,
   "metadata": {},
   "outputs": [],
   "source": [
    "# 9. Using the template add city name, the country code, the weather description and maximum temperature for the city.\n",
    "info_box_template = \"\"\"\n",
    "<dl>\n",
    "<dt>Hotel Name</dt><dd>{Hotel Name}</dd>\n",
    "<dt>City</dt><dd>{City}</dd>\n",
    "<dt>Country</dt><dd>{Country}</dd>\n",
    "<dt>Weather Description</dt><dd>{Current Description}</dd>\n",
    "<dt>Max Temp</dt><dd>{Max Temp} °F</dd>\n",
    "</dl>\n",
    "\"\"\"\n",
    "\n",
    "# 10a. Get the data from each row and add it to the formatting template and store the data in a list.\n",
    "hotel_info = [info_box_template.format(**row) for index, row in clean_hotel_df.iterrows()]\n",
    "\n",
    "# 10b. Get the latitude and longitude from each row and store in a new DataFrame.\n",
    "locations = clean_hotel_df[[\"Lat\", \"Lng\"]]"
   ]
  },
  {
   "cell_type": "code",
   "execution_count": 23,
   "metadata": {},
   "outputs": [
    {
     "output_type": "display_data",
     "data": {
      "text/plain": "Figure(layout=FigureLayout(height='420px'))",
      "application/vnd.jupyter.widget-view+json": {
       "version_major": 2,
       "version_minor": 0,
       "model_id": "40c799f3f6f0470ab0ef1e5934f20c35"
      }
     },
     "metadata": {}
    }
   ],
   "source": [
    "# 11a. Add a marker layer for each city to the map. \n",
    "fig = gmaps.figure(center=(30.0, 31.0), zoom_level=1.5)\n",
    "marker_layer = gmaps.marker_layer(locations, info_box_content=hotel_info)\n",
    "fig.add_layer(marker_layer)\n",
    "# 11b. Display the figure\n",
    "fig"
   ]
  },
  {
   "cell_type": "code",
   "execution_count": null,
   "metadata": {},
   "outputs": [],
   "source": []
  },
  {
   "cell_type": "code",
   "execution_count": null,
   "metadata": {},
   "outputs": [],
   "source": []
  }
 ],
 "metadata": {
  "kernelspec": {
   "name": "pythondata",
   "display_name": "Python 3.7.9 64-bit ('PythonData': conda)"
  },
  "language_info": {
   "codemirror_mode": {
    "name": "ipython",
    "version": 3
   },
   "file_extension": ".py",
   "mimetype": "text/x-python",
   "name": "python",
   "nbconvert_exporter": "python",
   "pygments_lexer": "ipython3",
   "version": "3.7.9"
  },
  "latex_envs": {
   "LaTeX_envs_menu_present": true,
   "autoclose": false,
   "autocomplete": true,
   "bibliofile": "biblio.bib",
   "cite_by": "apalike",
   "current_citInitial": 1,
   "eqLabelWithNumbers": true,
   "eqNumInitial": 1,
   "hotkeys": {
    "equation": "Ctrl-E",
    "itemize": "Ctrl-I"
   },
   "labels_anchors": false,
   "latex_user_defs": false,
   "report_style_numbering": false,
   "user_envs_cfg": false
  }
 },
 "nbformat": 4,
 "nbformat_minor": 2
}